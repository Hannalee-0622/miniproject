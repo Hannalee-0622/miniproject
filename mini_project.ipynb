{
 "cells": [
  {
   "cell_type": "markdown",
   "id": "fed618f1",
   "metadata": {},
   "source": [
    "# **Toy Project**  \n",
    "\n",
    "---\n",
    "\n",
    "\n",
    "</br>\n",
    "\n",
    "## - 3회차 + α 프로젝트 주제 제안서\n",
    "\n",
    "**본 프로젝트는 ML, DL, RL 지식을 바탕으로 실질적인 문제를 풀어보는 경험을 제공**\n",
    "\n",
    "---"
   ]
  },
  {
   "cell_type": "markdown",
   "id": "2324bd59",
   "metadata": {},
   "source": [
    "### **1. 자기 주도형 뉴스 추천 시스템**  \n",
    "\n",
    "#### **개요**\n",
    "사용자의 뉴스 클릭 히스토리를 바탕으로 **관련성 높은 뉴스 기사**를 추천하는 개인화 시스템 제작\n",
    "\n",
    "</br>\n",
    "\n",
    "#### **시나리오**\n",
    "- 사용자가 읽은 뉴스 기사 목록을 입력하면 그와 유사한 주제나 스타일의 기사를 **자동으로 추천**해주는 웹 애플리케이션 구현\n",
    "\n",
    "</br>\n",
    "\n",
    "#### **핵심 기술**\n",
    "- TF-IDF, Word2Vec, Sentence-BERT 기반 문장 임베딩\n",
    "- Cosine Similarity 기반 추천 시스템\n",
    "- Scikit-learn, Hugging Face Transformers\n",
    "- Streamlit 또는 Gradio UI\n",
    "\n",
    "</br>\n",
    "\n",
    "#### **확장 가능성**\n",
    "- 클릭 기반의 **온라인 피드백 학습**\n",
    "- 추천에 사용된 **유사도 기준 시각화**\n",
    "- 뉴스 키워드 클러스터링 + 시각적 설명 추가\n",
    "\n",
    "---"
   ]
  },
  {
   "cell_type": "markdown",
   "id": "609f06e8",
   "metadata": {},
   "source": [
    "### **2. GAN으로 얼굴에서 표정 바꾸기**  \n",
    "\n",
    "#### **개요**\n",
    "Generative Adversarial Network (GAN)를 활용하여 사람의 얼굴 이미지에서 **표정 변환** (예: 무표정 ↔ 웃음)\n",
    "\n",
    "</br>\n",
    "\n",
    "#### **시나리오**\n",
    "- 사용자에게 얼굴 이미지를 입력받아 조건부 생성(CGAN) 또는 CycleGAN을 활용해 표정을 바꾸고 출력합니다.\n",
    "\n",
    "</br>\n",
    "\n",
    "#### **핵심 기술**\n",
    "- DCGAN / CGAN / CycleGAN 구조 이해\n",
    "- CelebA 또는 custom face dataset 활용\n",
    "- PyTorch 또는 TensorFlow 기반 모델 학습\n",
    "- OpenCV + Gradio로 이미지 업로드 및 변환 UI 구성\n",
    "\n",
    "</br>\n",
    "\n",
    "#### **확장 가능성**\n",
    "- 표정 외 스타일 변환 (안경 착용, 헤어스타일 변경 등)\n",
    "- 얼굴 탐지 + 자동 전처리 포함\n",
    "- 실시간 웹캠 변환 기능 연동\n",
    "\n",
    "---\n"
   ]
  },
  {
   "cell_type": "markdown",
   "id": "34b65edb",
   "metadata": {},
   "source": [
    "### **3. 강화학습으로 택배 드론 최적 경로 찾기**  \n",
    "\n",
    "#### **개요**\n",
    "드론이 도시 맵에서 **여러 배달 지점을 방문하고, 장애물을 피하면서 최적의 경로를 학습**하도록 강화학습 에이전트 훈련\n",
    "\n",
    "</br>\n",
    "\n",
    "#### **시나리오**\n",
    "- 맵 위에 배달 지점과 장애물이 배치되어 있고 에이전트는 Q-learning이나 DQN을 통해 점차 더 효율적인 배달 경로 선택\n",
    "\n",
    "</br>\n",
    "\n",
    "#### **핵심 기술**\n",
    "- OpenAI Gym 스타일 환경 정의\n",
    "- Q-table 또는 DQN (PyTorch)\n",
    "- Reward shaping (배달 성공/실패/충돌에 따른 보상)\n",
    "- 에피소드별 학습 시각화\n",
    "\n",
    "</br>\n",
    "\n",
    "#### **확장 가능성**\n",
    "- 배달 우선순위, 시간 제한 등 현실적 조건 반영\n",
    "- 2D 상태 → 이미지로 변환해 CNN으로 학습\n",
    "- 여러 드론 에이전트 협업 (Multi-agent RL)\n",
    "\n",
    "---\n"
   ]
  },
  {
   "cell_type": "markdown",
   "id": "6712843d",
   "metadata": {},
   "source": [
    "\n",
    "## 난이도 비교표\n",
    "\n",
    "| 주제명 | 학습 난이도 | 구현 난이도 | 비고 |\n",
    "|--------|--------------|--------------|------------|\n",
    "| 1. 자기 주도형 뉴스 추천 | ★★ | ★★ | **ML/DL에 익숙** |\n",
    "| 2. 얼굴 표정 변환 GAN | ★★★★ | ★★★★ | **딥러닝에 자신 있는 경우** |\n",
    "| 3. 택배 드론 경로 RL | ★★★ | ★★★☆ | **강화학습을 좋아한다** |\n"
   ]
  },
  {
   "cell_type": "markdown",
   "id": "53c0a118",
   "metadata": {},
   "source": [
    "---\n",
    "\n",
    "### 추천 진행 계획 (예시: 뉴스 추천)\n",
    "\n",
    "**1차시 (Today)**\n",
    "- 프로젝트 소개 및 개념 설명 (추천 시스템, 문서 임베딩, cosine similarity)\n",
    "- 간단한 TF-IDF 또는 SBERT 임베딩 실습\n",
    "\n",
    "**2차시**\n",
    "- 실제 뉴스 데이터 크롤링 or 주어진 기사 사용\n",
    "- 유저의 선택 입력을 바탕으로 추천 모델 구축\n",
    "\n",
    "**3차시**\n",
    "- GUI 구축\n",
    "- 결과 시연 및 개선 발표"
   ]
  },
  {
   "cell_type": "markdown",
   "id": "e4146942",
   "metadata": {},
   "source": [
    "---"
   ]
  },
  {
   "cell_type": "markdown",
   "id": "991edff0",
   "metadata": {},
   "source": [
    "1. 문서 임베딩 실습 (TF-IDF, Word2Vec, BERT 임베딩)"
   ]
  },
  {
   "cell_type": "code",
   "execution_count": 4,
   "id": "90f32070",
   "metadata": {},
   "outputs": [
    {
     "name": "stdout",
     "output_type": "stream",
     "text": [
      "['animals' 'are' 'delicious' 'dogs' 'is' 'like' 'loyal' 'pizza']\n",
      "[[0.         0.         0.         0.         0.         0.79596054\n",
      "  0.         0.60534851]\n",
      " [0.         0.         0.62276601 0.         0.62276601 0.\n",
      "  0.         0.4736296 ]\n",
      " [0.5        0.5        0.         0.5        0.         0.\n",
      "  0.5        0.        ]]\n"
     ]
    }
   ],
   "source": [
    "from sklearn.feature_extraction.text import TfidfVectorizer\n",
    "\n",
    "docs = [\"I like pizza\", \"Pizza is delicious\", \"Dogs are loyal animals\"]\n",
    "vectorizer = TfidfVectorizer()\n",
    "X = vectorizer.fit_transform(docs)\n",
    "\n",
    "print(vectorizer.get_feature_names_out())\n",
    "print(X.toarray())"
   ]
  },
  {
   "cell_type": "code",
   "execution_count": 3,
   "id": "d0488e46",
   "metadata": {},
   "outputs": [
    {
     "name": "stdout",
     "output_type": "stream",
     "text": [
      "Collecting scikit-learn\n",
      "  Downloading scikit_learn-1.7.0-cp311-cp311-macosx_12_0_arm64.whl.metadata (31 kB)\n",
      "Requirement already satisfied: numpy>=1.22.0 in ./huggingface-env/lib/python3.11/site-packages (from scikit-learn) (1.26.4)\n",
      "Requirement already satisfied: scipy>=1.8.0 in ./huggingface-env/lib/python3.11/site-packages (from scikit-learn) (1.13.0)\n",
      "Requirement already satisfied: joblib>=1.2.0 in ./huggingface-env/lib/python3.11/site-packages (from scikit-learn) (1.5.1)\n",
      "Collecting threadpoolctl>=3.1.0 (from scikit-learn)\n",
      "  Downloading threadpoolctl-3.6.0-py3-none-any.whl.metadata (13 kB)\n",
      "Downloading scikit_learn-1.7.0-cp311-cp311-macosx_12_0_arm64.whl (10.7 MB)\n",
      "\u001b[2K   \u001b[90m━━━━━━━━━━━━━━━━━━━━━━━━━━━━━━━━━━━━━━━━\u001b[0m \u001b[32m10.7/10.7 MB\u001b[0m \u001b[31m31.0 MB/s\u001b[0m eta \u001b[36m0:00:00\u001b[0m \u001b[36m0:00:01\u001b[0m\n",
      "\u001b[?25hDownloading threadpoolctl-3.6.0-py3-none-any.whl (18 kB)\n",
      "Installing collected packages: threadpoolctl, scikit-learn\n",
      "\u001b[2K   \u001b[90m━━━━━━━━━━━━━━━━━━━━━━━━━━━━━━━━━━━━━━━━\u001b[0m \u001b[32m2/2\u001b[0m [scikit-learn][0m [scikit-learn]\n",
      "\u001b[1A\u001b[2KSuccessfully installed scikit-learn-1.7.0 threadpoolctl-3.6.0\n"
     ]
    }
   ],
   "source": [
    "!pip install scikit-learn"
   ]
  },
  {
   "cell_type": "markdown",
   "id": "af7415b8",
   "metadata": {},
   "source": [
    "2. Cosine Similarity 이해 및 실습"
   ]
  },
  {
   "cell_type": "code",
   "execution_count": 5,
   "id": "7daa0083",
   "metadata": {},
   "outputs": [
    {
     "name": "stdout",
     "output_type": "stream",
     "text": [
      "[[0.5]]\n"
     ]
    }
   ],
   "source": [
    "from sklearn.metrics.pairwise import cosine_similarity\n",
    "\n",
    "a = [[1, 0, 1]]\n",
    "b = [[0, 1, 1]]\n",
    "print(cosine_similarity(a, b))  # 유사도 0.5\n"
   ]
  },
  {
   "cell_type": "markdown",
   "id": "7bd27f6f",
   "metadata": {},
   "source": [
    "3. Gradio 사용법 예시"
   ]
  },
  {
   "cell_type": "code",
   "execution_count": 6,
   "id": "9f7c2bb4",
   "metadata": {},
   "outputs": [
    {
     "name": "stdout",
     "output_type": "stream",
     "text": [
      "* Running on local URL:  http://127.0.0.1:7860\n",
      "* To create a public link, set `share=True` in `launch()`.\n"
     ]
    },
    {
     "data": {
      "text/html": [
       "<div><iframe src=\"http://127.0.0.1:7860/\" width=\"100%\" height=\"500\" allow=\"autoplay; camera; microphone; clipboard-read; clipboard-write;\" frameborder=\"0\" allowfullscreen></iframe></div>"
      ],
      "text/plain": [
       "<IPython.core.display.HTML object>"
      ]
     },
     "metadata": {},
     "output_type": "display_data"
    },
    {
     "data": {
      "text/plain": []
     },
     "execution_count": 6,
     "metadata": {},
     "output_type": "execute_result"
    }
   ],
   "source": [
    "import gradio as gr\n",
    "\n",
    "def greet(name):\n",
    "    return f\"Hello, {name}!\"\n",
    "\n",
    "gr.Interface(fn=greet, inputs=\"text\", outputs=\"text\").launch()"
   ]
  },
  {
   "cell_type": "markdown",
   "id": "2ac67aeb",
   "metadata": {},
   "source": [
    "4. PyTorch 기초 복습 (특히 텐서, 모델 정의, 학습 루프)"
   ]
  },
  {
   "cell_type": "code",
   "execution_count": 7,
   "id": "49db1fde",
   "metadata": {},
   "outputs": [
    {
     "name": "stdout",
     "output_type": "stream",
     "text": [
      "tensor([[1.9681]], grad_fn=<AddmmBackward0>)\n"
     ]
    }
   ],
   "source": [
    "import torch\n",
    "import torch.nn as nn\n",
    "\n",
    "model = nn.Linear(3, 1)\n",
    "x = torch.tensor([[1.0, 2.0, 3.0]])\n",
    "output = model(x)\n",
    "print(output)\n"
   ]
  },
  {
   "cell_type": "markdown",
   "id": "df66965c",
   "metadata": {},
   "source": [
    "마지막으로 선택을 도와주는 질문들입니다.\n",
    "\n",
    "- 나는 텍스트를 다루는 작업이 익숙한가? (→ 뉴스 추천)\n",
    "- 나는 이미지 생성이나 GAN이 흥미로운가? (→ 얼굴 변환)\n",
    "- 나는 게임처럼 시뮬레이션하며 전략을 짜는 걸 좋아하나? (→ 드론 RL)\n",
    "- 내가 구현하고 싶은 출력 결과는 웹 형태인가? CLI인가?\n",
    "- 실시간 피드백을 보여주는 게 중요한가?"
   ]
  }
 ],
 "metadata": {
  "kernelspec": {
   "display_name": "venv",
   "language": "python",
   "name": "python3"
  },
  "language_info": {
   "codemirror_mode": {
    "name": "ipython",
    "version": 3
   },
   "file_extension": ".py",
   "mimetype": "text/x-python",
   "name": "python",
   "nbconvert_exporter": "python",
   "pygments_lexer": "ipython3",
   "version": "3.11.7"
  }
 },
 "nbformat": 4,
 "nbformat_minor": 5
}
